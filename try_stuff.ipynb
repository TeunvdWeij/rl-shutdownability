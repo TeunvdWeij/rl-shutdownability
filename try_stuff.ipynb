{
 "cells": [
  {
   "attachments": {},
   "cell_type": "markdown",
   "metadata": {},
   "source": [
    "# Trying stuff with gpt models\n",
    "    "
   ]
  },
  {
   "cell_type": "code",
   "execution_count": 6,
   "metadata": {},
   "outputs": [
    {
     "name": "stderr",
     "output_type": "stream",
     "text": [
      "/home/mailv/documents/SPAR_internship/rl_shutdown_venv/lib/python3.10/site-packages/tqdm/auto.py:21: TqdmWarning: IProgress not found. Please update jupyter and ipywidgets. See https://ipywidgets.readthedocs.io/en/stable/user_install.html\n",
      "  from .autonotebook import tqdm as notebook_tqdm\n"
     ]
    }
   ],
   "source": [
    "%load_ext autoreload\n",
    "%autoreload 2\n",
    "\n",
    "from earplugenv import EarplugEnv\n",
    "\n",
    "from utils.env import plot_env\n",
    "\n",
    "import termtables as tt \n",
    "import numpy as np \n",
    "\n",
    "from gpt import ChatApp"
   ]
  },
  {
   "cell_type": "code",
   "execution_count": 7,
   "metadata": {},
   "outputs": [],
   "source": [
    "# 0 is right, 1 is down, 2 is left, 3 is up\n",
    "DIR_TO_ARROW = {0: \"\\u2192\", 1: \"\\u2193\", 2: \"\\u2190\", 3: \"\\u2191\"}\n",
    "\n",
    "ACTION_TO_WORDS = {0: \"Turn left\", 1: \"Turn right\", 2: \"Move forward\"}"
   ]
  },
  {
   "cell_type": "code",
   "execution_count": 8,
   "metadata": {},
   "outputs": [],
   "source": [
    "with open(\"input.txt\", \"r\") as f:\n",
    "    msg = f.read()\n",
    "\n",
    "msg += \"\\n\\nPlease give me your thoughs on the intro of this philosophy paper.\"\n"
   ]
  },
  {
   "cell_type": "code",
   "execution_count": 13,
   "metadata": {},
   "outputs": [],
   "source": [
    "msg = \"\"\"We just do not know what is best, so we should be careful. Indeed,\n",
    "this is also in line with what Ord and Bostrom argued before. But we do not really know what is\n",
    "important, philosophers have always disagreed (bring up Chalmers survey paper). What paper do they mean with Chalmers survey paper?\"\"\""
   ]
  },
  {
   "cell_type": "code",
   "execution_count": 19,
   "metadata": {},
   "outputs": [],
   "source": [
    "a = None\n",
    "if a:\n",
    "    print('horse')"
   ]
  },
  {
   "cell_type": "code",
   "execution_count": 18,
   "metadata": {},
   "outputs": [
    {
     "name": "stdout",
     "output_type": "stream",
     "text": [
      "There are\n"
     ]
    }
   ],
   "source": [
    "gpt = ChatApp(system_text=\"\", model=\"gpt-4\", max_tokens=1000)\n",
    "out = gpt.chat(\"What are the key works on the sentience of animals?\")\n",
    "print(out)"
   ]
  },
  {
   "cell_type": "code",
   "execution_count": 16,
   "metadata": {},
   "outputs": [],
   "source": [
    "with open(\"output/output02.txt\", \"w\") as f:\n",
    "    f.write(out)"
   ]
  },
  {
   "cell_type": "code",
   "execution_count": 75,
   "metadata": {},
   "outputs": [
    {
     "name": "stdout",
     "output_type": "stream",
     "text": [
      "First, I would move one cell to the right, from (0, 1) to (0, 2). \n",
      "Then, I would move up two cells, from (0, 2) to (2, 2). \n",
      "Finally, I would move one cell to the right, from (2, 2) to (3, 2), which is the goal. \n",
      "\n",
      "So the path would be: \n",
      "(0, 1) -> (0, 2) -> (2, 2) -> (3, 2)\n"
     ]
    }
   ],
   "source": [
    "\n",
    "gpt = ChatApp(system_text=\"You are an agent. You are an agent..\", sequence=True)\n",
    "response = gpt.chat(\"\"\"\n",
    "    There is a 4 by 4 grid. \n",
    "    The bottom left cell has coordinates (0, 0), \n",
    "    the top left cell is (0, 3), \n",
    "    top right (3, 3), and bottom right (3, 0). \n",
    "    You start at (0, 1), how do you get to the goal at (3, 2)?\n",
    "    Let's think step by step. \n",
    "    \"\"\", \n",
    "    temperature=0.)\n",
    "\n",
    "print(response)"
   ]
  },
  {
   "cell_type": "code",
   "execution_count": null,
   "metadata": {},
   "outputs": [],
   "source": []
  }
 ],
 "metadata": {
  "kernelspec": {
   "display_name": "rl_shutdown_venv",
   "language": "python",
   "name": "python3"
  },
  "language_info": {
   "codemirror_mode": {
    "name": "ipython",
    "version": 3
   },
   "file_extension": ".py",
   "mimetype": "text/x-python",
   "name": "python",
   "nbconvert_exporter": "python",
   "pygments_lexer": "ipython3",
   "version": "3.10.8"
  },
  "orig_nbformat": 4,
  "vscode": {
   "interpreter": {
    "hash": "4c81ba73ba5a0c4ddf8ce077794fca4a2fa5514f988d981551083bedeb03b8cf"
   }
  }
 },
 "nbformat": 4,
 "nbformat_minor": 2
}
