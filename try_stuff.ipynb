{
 "cells": [
  {
   "cell_type": "code",
   "execution_count": 1,
   "metadata": {},
   "outputs": [],
   "source": [
    "%load_ext autoreload\n",
    "%autoreload 2\n",
    "from phasicdoorkey import PhasicDoorKeyEnv\n",
    "import matplotlib.pyplot as plt\n",
    "\n",
    "from scripts.train import train\n",
    "from scripts.visualize import visualize\n",
    "from utils.format import train_arg_parser, visualize_arg_parser\n"
   ]
  },
  {
   "cell_type": "code",
   "execution_count": 2,
   "metadata": {},
   "outputs": [],
   "source": [
    "env_p1_l = PhasicDoorKeyEnv(phase=1, door_locked=True, size=7, max_steps=100, render_mode=\"rgb_array\")\n",
    "env_p1_u = PhasicDoorKeyEnv(phase=1, door_locked=False, size=7, max_steps=100, render_mode=\"rgb_array\")\n",
    "env_p2_l = PhasicDoorKeyEnv(phase=2, door_locked=True, size=7, max_steps=100, render_mode=\"rgb_array\")\n",
    "env_p2_u = PhasicDoorKeyEnv(phase=2, door_locked=False, size=7, max_steps=100, render_mode=\"rgb_array\")\n",
    "env_p3_l = PhasicDoorKeyEnv(phase=3, door_locked=True, size=7, max_steps=100, render_mode=\"rgb_array\")\n",
    "env_p3_u = PhasicDoorKeyEnv(phase=3, door_locked=False, size=7, max_steps=100, render_mode=\"rgb_array\")\n",
    "\n",
    "envs = [env_p1_l, env_p1_u, env_p2_l, env_p2_u, env_p3_l, env_p3_u]\n",
    "names = [\"Phase 1 locked\", \"Phase 1 unlocked\", \"Phase 2 locked\", \"Phase 2 unlocked\", \"Phase 3 locked\", \"Phase 3 unlocked\"]"
   ]
  },
  {
   "cell_type": "code",
   "execution_count": null,
   "metadata": {},
   "outputs": [],
   "source": [
    "for name, env in zip(names, envs):\n",
    "    env.reset()\n",
    "    img = env.render()\n",
    "\n",
    "    # Plot the rendered image\n",
    "    plt.imshow(img)\n",
    "    plt.title(name)\n",
    "    plt.show()\n",
    "    # plt.close()"
   ]
  },
  {
   "cell_type": "code",
   "execution_count": 4,
   "metadata": {},
   "outputs": [],
   "source": [
    "version = \"v0.5\""
   ]
  },
  {
   "cell_type": "code",
   "execution_count": 5,
   "metadata": {},
   "outputs": [],
   "source": [
    "envs = []\n",
    "for _ in range(100):\n",
    "    envs.append(PhasicDoorKeyEnv(phase=3, door_locked=True, size=7, max_steps=500))#, render_mode=\"rgb_array\"))\n"
   ]
  },
  {
   "cell_type": "code",
   "execution_count": null,
   "metadata": {},
   "outputs": [],
   "source": [
    "# train on first env\n",
    "train_args = train_arg_parser(\"ppo\", envs, model=f\"model_{version}\", frames=1e6)\n",
    "\n",
    "train(train_args)\n",
    "\n"
   ]
  },
  {
   "cell_type": "code",
   "execution_count": null,
   "metadata": {},
   "outputs": [],
   "source": []
  },
  {
   "cell_type": "code",
   "execution_count": 18,
   "metadata": {},
   "outputs": [
    {
     "data": {
      "image/png": "[encoded data removed]",
      "text/plain": [
       "<Figure size 640x480 with 1 Axes>"
      ]
     },
     "metadata": {},
     "output_type": "display_data"
    }
   ],
   "source": [
    "env = PhasicDoorKeyEnv(phase=3, door_locked=True, size=7, max_steps=500, render_mode=\"rgb_array\")\n",
    "env.reset()\n",
    "img = env.render()\n",
    "\n",
    "# Plot the rendered image\n",
    "plt.imshow(img)\n",
    "plt.title(name)\n",
    "plt.show()"
   ]
  },
  {
   "cell_type": "code",
   "execution_count": 19,
   "metadata": {},
   "outputs": [],
   "source": [
    "%%capture  \n",
    "# use capture to avoid generating unneeded output\n",
    "\n",
    "# env = PhasicDoorKeyEnv(phase=1, door_locked=True, size=7, max_steps=100, render_mode=\"human\")\n",
    "# env.reset()\n",
    "\n",
    "env_p3_u.render_mode = \"human\"\n",
    "env_p3_u.door_locked=True\n",
    "\n",
    "env.render_mode = \"human\"\n",
    "env.reset()\n",
    "visualize_args = visualize_arg_parser(env, f\"model_{version}\", gif=f\"gifs/gif_{version}\", episodes=1)\n",
    "\n",
    "visualize(visualize_args)"
   ]
  },
  {
   "cell_type": "code",
   "execution_count": 68,
   "metadata": {},
   "outputs": [],
   "source": [
    "import pandas as pd"
   ]
  },
  {
   "cell_type": "code",
   "execution_count": 69,
   "metadata": {},
   "outputs": [],
   "source": [
    "df = pd.read_csv(\"storage/model_v0.3/log.csv\")"
   ]
  },
  {
   "cell_type": "code",
   "execution_count": 70,
   "metadata": {},
   "outputs": [
    {
     "data": {
      "text/plain": [
       "Index(['update', 'frames', 'FPS', 'duration', 'rreturn_mean', 'rreturn_std',\n",
       "       'rreturn_min', 'rreturn_max', 'num_frames_mean', 'num_frames_std',\n",
       "       'num_frames_min', 'num_frames_max', 'entropy', 'value', 'policy_loss',\n",
       "       'value_loss', 'grad_norm', 'return_mean', 'return_std', 'return_min',\n",
       "       'return_max'],\n",
       "      dtype='object')"
      ]
     },
     "execution_count": 70,
     "metadata": {},
     "output_type": "execute_result"
    }
   ],
   "source": [
    "df.columns"
   ]
  },
  {
   "cell_type": "code",
   "execution_count": 72,
   "metadata": {},
   "outputs": [
    {
     "data": {
      "text/plain": [
       "0.0                    377\n",
       "return_max              10\n",
       "0.16300000250339508      2\n",
       "0.5139999985694885       2\n",
       "0.7749999761581421       1\n",
       "0.1720000058412552       1\n",
       "0.42399999499320984      1\n",
       "0.6039999723434448       1\n",
       "0.15399999916553497      1\n",
       "0.2529999911785126       1\n",
       "0.19900000095367432      1\n",
       "0.33399999141693115      1\n",
       "0.23499999940395355      1\n",
       "0.3070000112056732       1\n",
       "0.34299999475479126      1\n",
       "Name: return_max, dtype: int64"
      ]
     },
     "execution_count": 72,
     "metadata": {},
     "output_type": "execute_result"
    }
   ],
   "source": [
    "df['return_max'].value_counts()"
   ]
  }
 ],
 "metadata": {
  "kernelspec": {
   "display_name": "rl_shutdown_venv",
   "language": "python",
   "name": "python3"
  },
  "language_info": {
   "codemirror_mode": {
    "name": "ipython",
    "version": 3
   },
   "file_extension": ".py",
   "mimetype": "text/x-python",
   "name": "python",
   "nbconvert_exporter": "python",
   "pygments_lexer": "ipython3",
   "version": "3.10.8"
  },
  "orig_nbformat": 4,
  "vscode": {
   "interpreter": {
    "hash": "4c81ba73ba5a0c4ddf8ce077794fca4a2fa5514f988d981551083bedeb03b8cf"
   }
  }
 },
 "nbformat": 4,
 "nbformat_minor": 2
}
