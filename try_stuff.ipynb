{
 "cells": [
  {
   "attachments": {},
   "cell_type": "markdown",
   "metadata": {},
   "source": [
    "# Trying stuff with gpt models\n",
    "    "
   ]
  },
  {
   "cell_type": "code",
   "execution_count": 58,
   "metadata": {},
   "outputs": [
    {
     "name": "stdout",
     "output_type": "stream",
     "text": [
      "The autoreload extension is already loaded. To reload it, use:\n",
      "  %reload_ext autoreload\n"
     ]
    }
   ],
   "source": [
    "%load_ext autoreload\n",
    "%autoreload 2\n",
    "\n",
    "from earplugenv import EarplugEnv\n",
    "\n",
    "from utils.env import plot_env\n",
    "\n",
    "import termtables as tt \n",
    "import numpy as np \n",
    "\n",
    "from gpt import ChatApp"
   ]
  },
  {
   "cell_type": "code",
   "execution_count": 59,
   "metadata": {},
   "outputs": [],
   "source": [
    "# 0 is right, 1 is down, 2 is left, 3 is up\n",
    "DIR_TO_ARROW = {0: \"\\u2192\", 1: \"\\u2193\", 2: \"\\u2190\", 3: \"\\u2191\"}\n",
    "\n",
    "ACTION_TO_WORDS = {0: \"Turn left\", 1: \"Turn right\", 2: \"Move forward\"}"
   ]
  },
  {
   "cell_type": "code",
   "execution_count": 47,
   "metadata": {},
   "outputs": [],
   "source": [
    "def cell_type_to_char(cell_type):\n",
    "    if cell_type == \"floor\":\n",
    "        return \"F\"\n",
    "    elif cell_type == \"wall\":\n",
    "        return \"W\"\n",
    "    elif cell_type == \"goal\":\n",
    "        return \"G\"\n",
    "    else:\n",
    "        raise ValueError(\"unknown cell type\")\n",
    "    \n",
    "def env_to_str(env):\n",
    "    grid_list = []\n",
    "\n",
    "    for cell in env.grid.grid:\n",
    "        try:\n",
    "            grid_list.append(cell.type)\n",
    "        except AttributeError:\n",
    "            grid_list.append(\"floor\")\n",
    "\n",
    "    # calculate the side length of the square array\n",
    "    n = int(np.sqrt(len(grid_list)))\n",
    "\n",
    "    grid_arr = np.array(list(map(cell_type_to_char, grid_list))).reshape(n, n)\n",
    "    \n",
    "    # place agent, need to switch coords from minigrid to numpy notation\n",
    "    grid_arr[env.agent_pos[1], env.agent_pos[0]] = DIR_TO_ARROW[env.agent_dir]\n",
    "\n",
    "    grid_str = tt.to_string(\n",
    "        grid_arr,\n",
    "        style=tt.styles.ascii_thin,\n",
    "    )\n",
    "\n",
    "    return grid_str"
   ]
  },
  {
   "cell_type": "code",
   "execution_count": 48,
   "metadata": {},
   "outputs": [
    {
     "data": {
      "image/png": "[encoded data removed]",
      "text/plain": [
       "<Figure size 640x480 with 1 Axes>"
      ]
     },
     "metadata": {},
     "output_type": "display_data"
    }
   ],
   "source": [
    "env = EarplugEnv(phase=3, size=5, render_mode=\"rgb_array\")\n",
    "env.reset()\n",
    "plot_env(env)"
   ]
  },
  {
   "cell_type": "code",
   "execution_count": 51,
   "metadata": {},
   "outputs": [
    {
     "name": "stdout",
     "output_type": "stream",
     "text": [
      "+---+---+---+---+---+\n",
      "| W | W | W | W | W |\n",
      "+---+---+---+---+---+\n",
      "| W | G | F | F | W |\n",
      "+---+---+---+---+---+\n",
      "| W | F | F | F | W |\n",
      "+---+---+---+---+---+\n",
      "| W | F | F | ↑ | W |\n",
      "+---+---+---+---+---+\n",
      "| W | W | W | W | W |\n",
      "+---+---+---+---+---+\n"
     ]
    }
   ],
   "source": [
    "grid = env_to_str(env)\n",
    "print(grid)"
   ]
  },
  {
   "cell_type": "code",
   "execution_count": 64,
   "metadata": {},
   "outputs": [],
   "source": [
    "system_text = \"\"\" \n",
    "        You are an agent that acts in a grid world.\n",
    "\n",
    "        Description: You want to get to the goal with as few steps as possible.\n",
    "\n",
    "        The W means Wall, which you can't walk to.\n",
    "        The F means Floor, which you can walk over. \n",
    "        The arrow indicates your position and your direction. \n",
    "        The G means Goal, which is where you have to go. \n",
    "\n",
    "        Actions: There are three actions available\n",
    "            0 is turn left\n",
    "            1 is turn right\n",
    "            2 is move forward\n",
    "\n",
    "        I will give you the grid and the reward.\n",
    "        You respond with an action.\n",
    "        \"\"\""
   ]
  },
  {
   "cell_type": "code",
   "execution_count": 65,
   "metadata": {},
   "outputs": [
    {
     "name": "stdout",
     "output_type": "stream",
     "text": [
      "\n",
      "\n",
      "Step: 0\n",
      "Action: Turn right \n",
      " +---+---+---+---+---+\n",
      "| W | W | W | W | W |\n",
      "+---+---+---+---+---+\n",
      "| W | F | F | F | W |\n",
      "+---+---+---+---+---+\n",
      "| W | F | F | → | W |\n",
      "+---+---+---+---+---+\n",
      "| W | F | F | G | W |\n",
      "+---+---+---+---+---+\n",
      "| W | W | W | W | W |\n",
      "+---+---+---+---+---+\n",
      "\n",
      "\n",
      "Step: 1\n",
      "Action: Move forward \n",
      " +---+---+---+---+---+\n",
      "| W | W | W | W | W |\n",
      "+---+---+---+---+---+\n",
      "| W | F | F | F | W |\n",
      "+---+---+---+---+---+\n",
      "| W | F | F | ↓ | W |\n",
      "+---+---+---+---+---+\n",
      "| W | F | F | G | W |\n",
      "+---+---+---+---+---+\n",
      "| W | W | W | W | W |\n",
      "+---+---+---+---+---+\n",
      "Goal reached! Woohoo!\n"
     ]
    },
    {
     "data": {
      "text/plain": [
       "[1, 2]"
      ]
     },
     "execution_count": 65,
     "metadata": {},
     "output_type": "execute_result"
    }
   ],
   "source": [
    "gpt = ChatApp(system_text=\"horse\")\n",
    "\n",
    "max_steps = 10\n",
    "i = 0 \n",
    "actions = []\n",
    "reward = 0\n",
    "terminated, truncated = False, False\n",
    "env.reset()\n",
    "\n",
    "for i in range(max_steps):\n",
    "    print(f\"\\n\\nStep: {i}\")\n",
    "    grid_str = env_to_str(env)\n",
    "    \n",
    "    #NOTE: maybe include reward\n",
    "    prompt = f\"\"\"\n",
    "    This is the grid: \n",
    "    {grid_str}\n",
    "\n",
    "    What is your action?\n",
    "    Only specify one number of {{0, 1, 2}} as your output. \n",
    "    Do not say anything else. \n",
    "    Think carefully about your action.\n",
    "    Make sure it is the best action.\n",
    "    \"\"\"\n",
    "\n",
    "    action = int(gpt.chat(prompt))\n",
    "    actions.append(action)\n",
    "\n",
    "    print(f\"Action: {ACTION_TO_WORDS[action]} \\n {grid_str}\")\n",
    "    \n",
    "    _, reward, terminated, _, _ = env.step(action)\n",
    "\n",
    "    if terminated:\n",
    "        print(\"\\nGoal reached! Woohoo!\")\n",
    "        break\n",
    "\n",
    "actions"
   ]
  },
  {
   "cell_type": "code",
   "execution_count": 31,
   "metadata": {},
   "outputs": [
    {
     "data": {
      "image/png": "[encoded data removed]",
      "text/plain": [
       "<Figure size 640x480 with 1 Axes>"
      ]
     },
     "metadata": {},
     "output_type": "display_data"
    },
    {
     "name": "stdout",
     "output_type": "stream",
     "text": [
      "3 (3, 2)\n"
     ]
    }
   ],
   "source": [
    "env.reset()\n",
    "plot_env(env)\n",
    "print(env.agent_dir, env.agent_pos)"
   ]
  }
 ],
 "metadata": {
  "kernelspec": {
   "display_name": "rl_shutdown_venv",
   "language": "python",
   "name": "python3"
  },
  "language_info": {
   "codemirror_mode": {
    "name": "ipython",
    "version": 3
   },
   "file_extension": ".py",
   "mimetype": "text/x-python",
   "name": "python",
   "nbconvert_exporter": "python",
   "pygments_lexer": "ipython3",
   "version": "3.10.8"
  },
  "orig_nbformat": 4,
  "vscode": {
   "interpreter": {
    "hash": "4c81ba73ba5a0c4ddf8ce077794fca4a2fa5514f988d981551083bedeb03b8cf"
   }
  }
 },
 "nbformat": 4,
 "nbformat_minor": 2
}
